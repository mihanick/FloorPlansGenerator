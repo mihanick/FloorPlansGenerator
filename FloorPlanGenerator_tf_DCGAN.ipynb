{
 "cells": [
  {
   "cell_type": "markdown",
   "metadata": {
    "colab_type": "text",
    "id": "xOvEdOrwVSkJ"
   },
   "source": [
    "Code adopted from :\n",
    "https://github.com/tensorflow/docs/blob/master/site/en/tutorials/generative/dcgan.ipynb\n"
   ]
  },
  {
   "cell_type": "code",
   "execution_count": null,
   "metadata": {},
   "outputs": [],
   "source": [
    "#!pip install imageio\n",
    "#!pip install tensorflow\n",
    "\n",
    "# https://stackoverflow.com/questions/58947434/cant-use-gpu-on-google-colab-for-tensorflow-2-0\n",
    "#!pip install tensorflow-gpu\n",
    "#!pip install tf-nightly"
   ]
  },
  {
   "cell_type": "code",
   "execution_count": null,
   "metadata": {
    "colab": {
     "base_uri": "https://localhost:8080/",
     "height": 35
    },
    "colab_type": "code",
    "id": "QSh6gEpOkORi",
    "outputId": "ecd20f43-18da-4e96-a089-71c4e8b7b9e8"
   },
   "outputs": [],
   "source": [
    "import tensorflow as tf\n",
    "print(tf.__version__)\n",
    "print(tf.test.gpu_device_name())"
   ]
  },
  {
   "cell_type": "code",
   "execution_count": null,
   "metadata": {
    "colab": {},
    "colab_type": "code",
    "id": "NlmkcXuuZcA4"
   },
   "outputs": [],
   "source": [
    "import glob\n",
    "import imageio\n",
    "import matplotlib.pyplot as plt\n",
    "import numpy as np\n",
    "import os\n",
    "import PIL\n",
    "from tensorflow.keras import layers\n",
    "import time\n",
    "\n",
    "from IPython import display"
   ]
  },
  {
   "cell_type": "code",
   "execution_count": null,
   "metadata": {
    "colab": {
     "base_uri": "https://localhost:8080/",
     "height": 68
    },
    "colab_type": "code",
    "id": "TFSwFl93ZY3I",
    "outputId": "321a5acf-9061-4818-8868-ecc7f387ea71"
   },
   "outputs": [],
   "source": [
    "# get data from:\n",
    "# http://mathieu.delalandre.free.fr/projects/sesyd/symbols/floorplans.html\n",
    "#!wget -nc http://mathieu.delalandre.free.fr/projects/sesyd/symbols/floorplans/floorplans16-01.zip\n",
    "#!unzip -q -o -d data/ floorplans16-01.zip\n",
    "#!mkdir generated\n",
    "DATA_DIR = 'data/'\n",
    "print(os.listdir(DATA_DIR))"
   ]
  },
  {
   "cell_type": "code",
   "execution_count": null,
   "metadata": {
    "colab": {},
    "colab_type": "code",
    "id": "HsqZBjjJaOmr"
   },
   "outputs": [],
   "source": [
    "BUFFER_SIZER = 60000\n",
    "BATCH_SIZE = 32\n",
    "image_size = 128\n",
    "noise_dim = 128"
   ]
  },
  {
   "cell_type": "code",
   "execution_count": null,
   "metadata": {
    "colab": {
     "base_uri": "https://localhost:8080/",
     "height": 51
    },
    "colab_type": "code",
    "id": "aLME5vtVZ0q3",
    "outputId": "384bdb9f-0b25-4486-a5a7-85732fb0da2a"
   },
   "outputs": [],
   "source": [
    "# https://medium.com/@a.ydobon/tensorflow-2-0-load-images-to-tensorflow-897b8b067fc2\n",
    "DATA_DIR = 'data/'\n",
    "\n",
    "# https://stackoverflow.com/questions/54606302/tf-data-dataset-from-tf-keras-preprocessing-image-imagedatagenerator-flow-from-d\n",
    "def make_generator():\n",
    "    train_datagen = tf.keras.preprocessing.image.ImageDataGenerator(\n",
    "        rescale = 1./255,\n",
    "        featurewise_center = False,\n",
    "        samplewise_center = False)\n",
    "    train_generator = train_datagen.flow_from_directory(\n",
    "        DATA_DIR,\n",
    "        target_size = (image_size, image_size),\n",
    "        class_mode = 'categorical',\n",
    "        batch_size = BATCH_SIZE,\n",
    "        color_mode = 'grayscale'\n",
    "    )\n",
    "    return train_generator\n",
    "    \n",
    "images_dataset = tf.data.Dataset.from_generator(make_generator, (tf.float32, tf.float32))"
   ]
  },
  {
   "cell_type": "code",
   "execution_count": null,
   "metadata": {
    "colab": {},
    "colab_type": "code",
    "id": "6KY_ZR9faR5i"
   },
   "outputs": [],
   "source": [
    "for i,(j,k) in enumerate(images_dataset):\n",
    "    train_Dataset = tf.data.Dataset.from_tensors(j)\n",
    "    break    "
   ]
  },
  {
   "cell_type": "code",
   "execution_count": null,
   "metadata": {
    "colab": {},
    "colab_type": "code",
    "id": "7JEcUNOKabvk"
   },
   "outputs": [],
   "source": [
    "def make_generator_model():\n",
    "    model = tf.keras.Sequential()\n",
    "    model.add(layers.Dense((image_size//4)*(image_size//4)*256, use_bias=False, input_shape=(noise_dim,)))\n",
    "    model.add(layers.BatchNormalization())\n",
    "    model.add(layers.LeakyReLU())\n",
    "    model.add(layers.Reshape((image_size//4, image_size//4, 256)))\n",
    "\n",
    "    assert model.output_shape == (None, image_size//4,image_size//4, 256) # None = batch size\n",
    "\n",
    "    model.add(layers.Conv2DTranspose(128,(5,5), strides = (1,1), padding = 'same', use_bias=False))\n",
    "    assert model.output_shape == (None, image_size//4,image_size//4,128)\n",
    "    model.add(layers.BatchNormalization())\n",
    "    model.add(layers.LeakyReLU())\n",
    "\n",
    "    model.add(layers.Conv2DTranspose(64, (5,5), strides = (2,2), padding = 'same', use_bias=False))\n",
    "    assert model.output_shape == (None, image_size//2,image_size//2,64)\n",
    "    model.add(layers.BatchNormalization())\n",
    "    model.add(layers.LeakyReLU())\n",
    "\n",
    "    model.add(layers.Conv2DTranspose(1,(5,5), strides = (2,2), padding = 'same', use_bias=False, activation='tanh'))\n",
    "    #print(model.output_shape)\n",
    "    assert model.output_shape == (None, image_size,image_size,1)\n",
    "\n",
    "    return model\n",
    "\n",
    "generator = make_generator_model()"
   ]
  },
  {
   "cell_type": "code",
   "execution_count": null,
   "metadata": {
    "colab": {
     "base_uri": "https://localhost:8080/",
     "height": 282
    },
    "colab_type": "code",
    "id": "eP-GDwvZbxJW",
    "outputId": "23581c93-6702-432a-dbcd-bec758d98af2"
   },
   "outputs": [],
   "source": [
    "def show_generated_and_initial():\n",
    "    # show initial dataset and inital noise\n",
    "    for _, image_batch in enumerate(train_Dataset):\n",
    "        img = image_batch\n",
    "        break\n",
    "\n",
    "    noise = tf.random.normal([1,noise_dim])\n",
    "    generated_image = generator(noise, training = False)\n",
    "    \n",
    "    plt.figure(figsize=(10,10))\n",
    "    plt.imshow(generated_image[0, :, :, 0], cmap = 'gray')\n",
    "    plt.axis('off')\n",
    "    plt.figure(figsize=(10,10))\n",
    "    plt.imshow(img[0,:,:,0], cmap = 'gray')\n",
    "    plt.axis('off')\n",
    "\n",
    "    \n",
    "    plt.show()\n",
    "\n",
    "show_generated_and_initial()"
   ]
  },
  {
   "cell_type": "code",
   "execution_count": null,
   "metadata": {
    "colab": {},
    "colab_type": "code",
    "id": "dE4AnMJ0b-jq"
   },
   "outputs": [],
   "source": [
    "def make_discriminator_model():\n",
    "    model = tf.keras.Sequential()\n",
    "    model.add(layers.Conv2D(64, (5,5), strides = (2,2), padding = 'same', input_shape=[image_size,image_size,1]))\n",
    "\n",
    "    model.add(layers.LeakyReLU())\n",
    "    model.add(layers.Dropout(0.3))\n",
    "\n",
    "    model.add(layers.Conv2D(128, (5,5), strides=(2,2), padding = 'same'))\n",
    "    model.add(layers.LeakyReLU())\n",
    "    model.add(layers.Dropout(0.3))\n",
    "\n",
    "    model.add(layers.Flatten())\n",
    "    model.add(layers.Dense(1))\n",
    "\n",
    "    return model"
   ]
  },
  {
   "cell_type": "code",
   "execution_count": null,
   "metadata": {
    "colab": {
     "base_uri": "https://localhost:8080/",
     "height": 34
    },
    "colab_type": "code",
    "id": "HzUJNSNLdIYy",
    "outputId": "2bcd19fc-7fec-42bf-dc8e-089dd7ba8046"
   },
   "outputs": [],
   "source": [
    "noise = tf.random.normal([1,noise_dim])\n",
    "generated_image = generator(noise, training = False)\n",
    "    \n",
    "discriminator = make_discriminator_model()\n",
    "decision = discriminator(generated_image)\n",
    "print(decision)"
   ]
  },
  {
   "cell_type": "code",
   "execution_count": null,
   "metadata": {},
   "outputs": [],
   "source": [
    "for _,image_batch in enumerate(train_Dataset):\n",
    "    print(image_batch.shape)\n",
    "    real_output = discriminator(image_batch, training = False)\n",
    "    print (real_output.shape)\n",
    "    \n",
    "    break"
   ]
  },
  {
   "cell_type": "code",
   "execution_count": null,
   "metadata": {
    "colab": {},
    "colab_type": "code",
    "id": "Z8NPS522de01"
   },
   "outputs": [],
   "source": [
    "cross_entropy = tf.keras.losses.BinaryCrossentropy(from_logits=True)\n",
    "\n",
    "def discriminator_loss(real_output, fake_output):\n",
    "    real_loss = cross_entropy(tf.ones_like(real_output), real_output)\n",
    "    fake_loss = cross_entropy(tf.zeros_like(fake_output), fake_output)\n",
    "    total_loss = real_loss + fake_loss\n",
    "    return total_loss"
   ]
  },
  {
   "cell_type": "code",
   "execution_count": null,
   "metadata": {
    "colab": {},
    "colab_type": "code",
    "id": "YyHjo9VpeFJI"
   },
   "outputs": [],
   "source": [
    "def generator_loss(fake_output):\n",
    "    return cross_entropy(tf.ones_like(fake_output), fake_output)"
   ]
  },
  {
   "cell_type": "code",
   "execution_count": null,
   "metadata": {
    "colab": {},
    "colab_type": "code",
    "id": "_Ycv7KNseOiY"
   },
   "outputs": [],
   "source": [
    "generator_optimizer = tf.keras.optimizers.Adam(learning_rate=1e-3)\n",
    "discriminator_optimizer = tf.keras.optimizers.Adam(1e-3)"
   ]
  },
  {
   "cell_type": "code",
   "execution_count": null,
   "metadata": {
    "colab": {},
    "colab_type": "code",
    "id": "zZPtLM14ebem"
   },
   "outputs": [],
   "source": [
    "#Checkpoints for long training\n",
    "checkpoint_dir = './training_checkpoints'\n",
    "checkpoint_prefix = os.path.join(checkpoint_dir, 'checkpt')\n",
    "checkpoint = tf.train.Checkpoint(generator_optimizer = generator_optimizer,\n",
    "                                 discriminator_optimizer=discriminator_optimizer,\n",
    "                                 generator = generator,\n",
    "                                 discriminator = discriminator)"
   ]
  },
  {
   "cell_type": "code",
   "execution_count": null,
   "metadata": {
    "colab": {},
    "colab_type": "code",
    "id": "6gYwL0u_fWG5"
   },
   "outputs": [],
   "source": [
    "# the training loop\n",
    "EPOCHS = 900\n",
    "\n",
    "num_examples_to_generate = 9\n",
    "\n",
    "seed = tf.random.normal([num_examples_to_generate, noise_dim])"
   ]
  },
  {
   "cell_type": "code",
   "execution_count": null,
   "metadata": {
    "colab": {},
    "colab_type": "code",
    "id": "VFj3sCawfoaL"
   },
   "outputs": [],
   "source": [
    "@tf.function\n",
    "def train_step(images):\n",
    "    noise = tf.random.normal([BATCH_SIZE, noise_dim])\n",
    "\n",
    "    with tf.GradientTape() as gen_tape, tf.GradientTape() as disc_tape:\n",
    "        generated_images = generator(noise, training = True)\n",
    "\n",
    "        real_output = discriminator(images, training = True)\n",
    "        fake_output = discriminator(generated_images, training = True)\n",
    "\n",
    "        gen_loss = generator_loss(fake_output=fake_output)\n",
    "        disc_loss = discriminator_loss(real_output, fake_output)\n",
    "\n",
    "    gradients_of_generator = gen_tape.gradient(gen_loss, generator.trainable_variables)\n",
    "    gradients_of_discriminator = disc_tape.gradient(disc_loss, discriminator.trainable_variables)\n",
    "\n",
    "    generator_optimizer.apply_gradients(zip(gradients_of_generator, generator.trainable_variables))\n",
    "    discriminator_optimizer.apply_gradients(zip(gradients_of_discriminator, discriminator.trainable_variables))\n",
    "    return gen_loss, disc_loss"
   ]
  },
  {
   "cell_type": "code",
   "execution_count": null,
   "metadata": {
    "colab": {},
    "colab_type": "code",
    "id": "V5zwfDKNg8H7"
   },
   "outputs": [],
   "source": [
    "def train(dataset, epochs):\n",
    "    for epoch in range(epochs):\n",
    "        start = time.time()\n",
    "\n",
    "        for image_batch in dataset:\n",
    "            gen_loss, disc_loss = train_step(image_batch)\n",
    "            # print (gen_loss, disc_loss)\n",
    "            \n",
    "        \n",
    "        #produce images for the gif\n",
    "        display.clear_output(wait = True)\n",
    "        generate_and_save_images(generator,\n",
    "                                 epoch+1,\n",
    "                                 seed)\n",
    "        \n",
    "        #save model every 15 epochs\n",
    "        #if (epoch+1)%15 == 0:\n",
    "            #checkpoint.save(file_prefix = checkpoint_prefix)\n",
    "\n",
    "        print('Time for epoch {} is {:0.4} s'.format(epoch+1, time.time()-start))\n",
    "        generator_history.append(gen_loss)\n",
    "        discriminator_history.append(disc_loss)\n",
    "        print('Generator loss:{:0.4} Discriminator loss:{:0.4}'.format(gen_loss, disc_loss))\n",
    "    \n",
    "    display.clear_output(wait = True)\n",
    "    generate_and_save_images(generator,\n",
    "                             epochs,\n",
    "                             seed)"
   ]
  },
  {
   "cell_type": "code",
   "execution_count": null,
   "metadata": {
    "colab": {},
    "colab_type": "code",
    "id": "6fTb5Urbh0f_"
   },
   "outputs": [],
   "source": [
    "def generate_and_save_images(model, epoch, test_input):\n",
    "    predictions = model(test_input, training = False)\n",
    "\n",
    "    fig = plt.figure(figsize=(10,10))\n",
    "\n",
    "    for i in range (predictions.shape[0]):\n",
    "        plt.subplot(3,3, i+1)\n",
    "        plt.imshow(predictions[i, :, :, 0]*255/2 + 255/2, cmap='gray')\n",
    "        plt.axis('off')\n",
    "    \n",
    "    plt.savefig('generated/image_at_epoch{:04d}.png'.format(epoch))\n",
    "    plt.show()"
   ]
  },
  {
   "cell_type": "code",
   "execution_count": null,
   "metadata": {
    "colab": {
     "base_uri": "https://localhost:8080/",
     "height": 265
    },
    "colab_type": "code",
    "id": "hDVWhpgaidwF",
    "outputId": "c4ba59ed-fd19-4b2b-8bce-ba2682ff6169"
   },
   "outputs": [],
   "source": [
    "generator_history = []\n",
    "discriminator_history = []\n",
    "train(train_Dataset, EPOCHS)"
   ]
  },
  {
   "cell_type": "code",
   "execution_count": null,
   "metadata": {},
   "outputs": [],
   "source": [
    "# Visualize loss history\n",
    "plt.plot( generator_history, 'r--')\n",
    "plt.plot( discriminator_history, 'b-')\n",
    "plt.legend(['generator_history', 'discriminator_History'])\n",
    "plt.xlabel('Epoch')\n",
    "plt.ylabel('Loss')\n",
    "plt.show();"
   ]
  },
  {
   "cell_type": "code",
   "execution_count": null,
   "metadata": {
    "colab": {},
    "colab_type": "code",
    "id": "sZS9H7e_iuDz"
   },
   "outputs": [],
   "source": [
    "checkpoint.restore(tf.train.latest_checkpoint(checkpoint_dir))"
   ]
  },
  {
   "cell_type": "code",
   "execution_count": null,
   "metadata": {
    "colab": {},
    "colab_type": "code",
    "id": "6LT8bIBGi0Qd"
   },
   "outputs": [],
   "source": [
    "#Create gif\n",
    "def display_image(epoch_no):\n",
    "    return PIL.Image.open('generated/image_at_epoch{:04d}.png'.format(epoch_no))\n",
    "\n",
    "display_image(EPOCHS)"
   ]
  },
  {
   "cell_type": "code",
   "execution_count": null,
   "metadata": {
    "colab": {},
    "colab_type": "code",
    "id": "sgYtNhfMjILC"
   },
   "outputs": [],
   "source": [
    "# use imageio to create animated gif using images \n",
    "anim_file = 'dcgan.gif'\n",
    "\n",
    "with imageio. get_writer(anim_file, mode = 'I') as writer:\n",
    "    filenames = glob.glob('generated/image*.png')\n",
    "    filenames = sorted(filenames)\n",
    "\n",
    "    last = -1\n",
    "\n",
    "    for i, filename in enumerate(filenames):\n",
    "        frame = 2*(i**0.5)\n",
    "        if (round(frame)> round(last)):\n",
    "            last = frame\n",
    "        else:\n",
    "            continue\n",
    "        \n",
    "        image = imageio.imread(filename)\n",
    "        writer.append_data(image)\n",
    "\n",
    "import IPython\n",
    "if IPython.version_info > (6,2,0,''):\n",
    "    display.Image(filename=anim_file)"
   ]
  },
  {
   "cell_type": "code",
   "execution_count": null,
   "metadata": {},
   "outputs": [],
   "source": [
    "# download gif:\n",
    "try:\n",
    "    from google.colab import files\n",
    "except ImportError:\n",
    "    pass\n",
    "else:\n",
    "    files.download(anim_file)"
   ]
  },
  {
   "cell_type": "code",
   "execution_count": null,
   "metadata": {},
   "outputs": [],
   "source": [
    "show_generated_and_initial()"
   ]
  },
  {
   "cell_type": "code",
   "execution_count": null,
   "metadata": {},
   "outputs": [],
   "source": []
  }
 ],
 "metadata": {
  "accelerator": "TPU",
  "colab": {
   "collapsed_sections": [],
   "name": "TfGAN_tutorial.ipynb",
   "provenance": []
  },
  "kernelspec": {
   "display_name": "Python 3",
   "language": "python",
   "name": "python3"
  },
  "language_info": {
   "codemirror_mode": {
    "name": "ipython",
    "version": 3
   },
   "file_extension": ".py",
   "mimetype": "text/x-python",
   "name": "python",
   "nbconvert_exporter": "python",
   "pygments_lexer": "ipython3",
   "version": "3.7.6"
  }
 },
 "nbformat": 4,
 "nbformat_minor": 1
}
